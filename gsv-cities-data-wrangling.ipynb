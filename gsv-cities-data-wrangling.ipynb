{
 "cells": [
  {
   "cell_type": "code",
   "execution_count": 1,
   "metadata": {},
   "outputs": [
    {
     "name": "stderr",
     "output_type": "stream",
     "text": [
      "/tmp/ipykernel_1043/467601789.py:2: DeprecationWarning: \n",
      "Pyarrow will become a required dependency of pandas in the next major release of pandas (pandas 3.0),\n",
      "(to allow more performant data types, such as the Arrow string type, and better interoperability with other libraries)\n",
      "but was not found to be installed on your system.\n",
      "If this would cause problems for you,\n",
      "please provide us feedback at https://github.com/pandas-dev/pandas/issues/54466\n",
      "        \n",
      "  import pandas as pd\n"
     ]
    }
   ],
   "source": [
    "import os\n",
    "import pandas as pd\n",
    "import matplotlib.pyplot as plt\n",
    "import numpy as np"
   ]
  },
  {
   "cell_type": "code",
   "execution_count": 2,
   "metadata": {},
   "outputs": [],
   "source": [
    "# in /workspaces/SnowCLIP/gsv-cities/Images/, under each city folder, there are images of that city\n",
    "# Example name looks like Barcelona/Barcelona_0000000_2014_03_336_41.35591332950266_2.110622046275494_s0gk0AIOyPsJ_qiKjW6-eg.jpg\n",
    "# I want to rename all files to not have the 0000000 included in the name\n",
    "# How can I do that in python?\n",
    "\n",
    "# I will use os.rename to rename the files\n",
    "# I will use os.listdir to list all files in a directory\n",
    "# I will use os.path.join to join the directory path and the file name\n",
    "# I will use os.path.splitext to split the file name and the extension\n"
   ]
  },
  {
   "cell_type": "code",
   "execution_count": 3,
   "metadata": {},
   "outputs": [],
   "source": [
    "def rename_files():\n",
    "    images_directory = \"/workspaces/SnowCLIP/gsv-cities/Images/\"\n",
    "    # get the list of directories in the images directory\n",
    "\n",
    "    cities = os.listdir(images_directory)\n",
    "    # # loop through the directories\n",
    "    for city in cities:\n",
    "        # get the directory path\n",
    "        city_directory = os.path.join(images_directory, city)\n",
    "        # get the list of files in the directory\n",
    "        files = os.listdir(city_directory)\n",
    "        # loop through the files\n",
    "        for file in files:\n",
    "            # get the file path\n",
    "            file_path = os.path.join(city_directory, file)\n",
    "            # get the file name and the extension\n",
    "            file_name, file_extension = os.path.splitext(file)\n",
    "            # split the file name by _\n",
    "            file_name_parts = file_name.split('_')\n",
    "            # get the new file name\n",
    "            new_file_name = file_name_parts[7:] + [file_extension]\n",
    "            # get the new file path\n",
    "\n",
    "            new_file_path = os.path.join(city_directory, \"\".join(new_file_name))\n",
    "            # rename the file\n",
    "            os.rename(file_path, new_file_path)"
   ]
  },
  {
   "cell_type": "code",
   "execution_count": 4,
   "metadata": {},
   "outputs": [],
   "source": [
    "rename_files()"
   ]
  }
 ],
 "metadata": {
  "kernelspec": {
   "display_name": "Python 3",
   "language": "python",
   "name": "python3"
  },
  "language_info": {
   "codemirror_mode": {
    "name": "ipython",
    "version": 3
   },
   "file_extension": ".py",
   "mimetype": "text/x-python",
   "name": "python",
   "nbconvert_exporter": "python",
   "pygments_lexer": "ipython3",
   "version": "3.11.9"
  }
 },
 "nbformat": 4,
 "nbformat_minor": 2
}
