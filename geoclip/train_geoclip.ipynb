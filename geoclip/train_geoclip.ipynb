{
 "cells": [
  {
   "cell_type": "code",
   "execution_count": null,
   "metadata": {},
   "outputs": [],
   "source": [
    "from model import GeoCLIP\n",
    "from model import ImageEncoder\n",
    "from model import LocationEncoder\n",
    "from train import train\n",
    "from train import dataloader\n",
    "import os"
   ]
  },
  {
   "cell_type": "code",
   "execution_count": null,
   "metadata": {},
   "outputs": [],
   "source": [
    "#loader = dataloader.GeoDataLoader(\"data/geojsons\", \"data/images\")\n",
    "geo_clip = GeoCLIP()\n",
    "#train(train_dataloader=loader, model=geo_clip)\n",
    "\n",
    "#geo_clip.save(\"model\")\n"
   ]
  },
  {
   "cell_type": "code",
   "execution_count": 8,
   "metadata": {},
   "outputs": [
    {
     "data": {
      "text/plain": [
       "(tensor([[  22.1980, -159.6219],\n",
       "         [  22.1785, -159.6501],\n",
       "         [  22.1759, -159.6542],\n",
       "         [  22.1751, -159.6559],\n",
       "         [  22.1502, -159.6636],\n",
       "         [  22.2178, -159.5888],\n",
       "         [  21.4986, -158.1512],\n",
       "         [  22.2207, -159.5827],\n",
       "         [  21.3382, -157.8054],\n",
       "         [  20.1172, -155.5842]]),\n",
       " tensor([0.0731, 0.0704, 0.0679, 0.0669, 0.0527, 0.0454, 0.0370, 0.0314, 0.0293,\n",
       "         0.0288]))"
      ]
     },
     "execution_count": 8,
     "metadata": {},
     "output_type": "execute_result"
    }
   ],
   "source": [
    "geo_clip.predict(\"/workspace/geoclip/images/Kauai.png\", 10)"
   ]
  },
  {
   "cell_type": "code",
   "execution_count": null,
   "metadata": {},
   "outputs": [],
   "source": [
    "train(train_dataloader, model, criterion, optimizer, scheduler, epoch, batch_size, device)"
   ]
  }
 ],
 "metadata": {
  "kernelspec": {
   "display_name": "Python 3",
   "language": "python",
   "name": "python3"
  },
  "language_info": {
   "codemirror_mode": {
    "name": "ipython",
    "version": 3
   },
   "file_extension": ".py",
   "mimetype": "text/x-python",
   "name": "python",
   "nbconvert_exporter": "python",
   "pygments_lexer": "ipython3",
   "version": "3.11.7"
  }
 },
 "nbformat": 4,
 "nbformat_minor": 2
}
